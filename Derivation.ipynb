{
 "cells": [
  {
   "cell_type": "code",
   "execution_count": 19,
   "metadata": {},
   "outputs": [],
   "source": []
  },
  {
   "cell_type": "markdown",
   "metadata": {},
   "source": [
    "Suppose $A \\in \\mathbb{R}^{n \\times m}, B \\in \\mathbb{R}^{m \\times r}$ then the matrix product $AB := A \\cdot B \\in \\mathbb{R}^{n \\times r}$ is defined by\n",
    "$$\n",
    "(A \\cdot B)_{ij} = \\sum_{k = 1}^m A_{ik} \\cdot B_{kj}\n",
    "$$\n",
    "for $1 \\leq i \\leq n, 1 \\leq j \\leq r$."
   ]
  },
  {
   "cell_type": "code",
   "execution_count": 23,
   "metadata": {},
   "outputs": [
    {
     "name": "stdout",
     "output_type": "stream",
     "text": [
      "A.shape=(3, 4)\n",
      "B.shape=(4, 2)\n",
      "C = \n",
      "[[ 28 -10]\n",
      " [ 75 -23]\n",
      " [102 -11]]\n",
      "C.shape=(3, 2)\n"
     ]
    }
   ],
   "source": [
    "import numpy as np\n",
    "\n",
    "A = np.array([\n",
    "    [-1, 1, 2, 3],\n",
    "    [-3, 4, 5, 6],\n",
    "    [0, 7, 8, 9]\n",
    "])\n",
    "print(f\"{A.shape=}\")\n",
    "n, m = A.shape\n",
    "B = np.array([\n",
    "    [-4, 5],\n",
    "    [8, 1],\n",
    "    [-1, 0],\n",
    "    [6, -2]\n",
    "])\n",
    "print(f\"{B.shape=}\")\n",
    "m2, k = B.shape\n",
    "C = A @ B\n",
    "print(f\"C = \\n{C}\")\n",
    "print(f\"{C.shape=}\")\n",
    "assert m == m2\n",
    "assert C.shape == (n, k)"
   ]
  },
  {
   "cell_type": "markdown",
   "metadata": {},
   "source": [
    "We denote by \n",
    "$$\n",
    "A_{i, -} := \\begin{pmatrix}A_{i, 1}, A_{i, 2}, \\dots, A_{i, n}\\end{pmatrix} \\in \\R^{1 \\times N} \\cong \\R^N\n",
    "$$\n",
    "and\n",
    "$$\n",
    "B_{-, j} := \\begin{pmatrix}B_{i, 1} \\\\ B_{i, 2} \\\\ \\vdots \\\\ B_{i, n}\\end{pmatrix} \\in \\R^{N \\times 1} \\cong \\R^N\n",
    "$$\n",
    "the $i$-th row and $j$-th column of $A$ and $B$ respectively.\n",
    "\n",
    "The dot product between two vectors $v = (v_1, \\dots, v_n), w = (w_1, \\dots, w_n) \\in \\mathbb{R}^n$ is defined by\n",
    "$$\n",
    "v \\cdot w := \\sum­_{i = 1}^N v_i w_i \\in \\mathbb{R}.\n",
    "$$\n",
    "\n",
    "With this notation we can then write\n",
    "$$\n",
    "(AB)_{ij} = A_{i, -} \\cdot B_{-, j}.\n",
    "$$"
   ]
  },
  {
   "cell_type": "code",
   "execution_count": 26,
   "metadata": {},
   "outputs": [
    {
     "name": "stdout",
     "output_type": "stream",
     "text": [
      "A_2nd_row=array([-3,  4,  5,  6])\n",
      "B_1st_col=array([-4,  8, -1,  6])\n",
      "C[1, 0]=75\n"
     ]
    }
   ],
   "source": [
    "A_2nd_row = A[1, :]\n",
    "B_1st_col = B[:, 0]\n",
    "\n",
    "print(f\"{A_2nd_row=}\")\n",
    "print(f\"{B_1st_col=}\")\n",
    "\n",
    "print(f\"{C[1, 0]=}\")\n",
    "assert C[1, 0] == np.dot(A_2nd_row, B_1st_col)"
   ]
  },
  {
   "cell_type": "markdown",
   "metadata": {},
   "source": [
    "As such, if we apply the naive algorithm (i.e. just implement the definition directly) we will need to compute a dot product between a row and a column of $A$ and $B$ respectively. Those have lenght $m$ each so to compute the dot product we need $O(m)$ operations. And this has to be done for each of the $n \\times r$ entries in $AB$, meaning that the total number of operations is $O(nmr)$."
   ]
  },
  {
   "cell_type": "markdown",
   "metadata": {},
   "source": [
    "For simplicities' sake we will only restrict ourselves on the case of multiplying square matrices, i.e., $n = m = r$. We write $N := n$, and with that we have\n",
    "$$\n",
    "A, B, AB \\in \\mathbb{R}^N.\n",
    "$$"
   ]
  },
  {
   "cell_type": "markdown",
   "metadata": {},
   "source": [
    "To leverage Cache locality more effectively we will split the matrices into blocks of fixed size. Let $\\beta \\in \\N$ be a fixed number that we call the block size. This is usually written as a multiple of $2$ and we wil be using $\\beta := 32$.\n",
    "\n",
    "To avoid having to deal with partial blocks we assume that $N = k \\beta$ for some $k \\in \\N$. With that we can write\n",
    "$$\n",
    "A, B, AB \\in \\mathbb{R^{k\\beta \\times k\\beta}}\n",
    "$$\n",
    "and for $1 \\leq i, j \\leq n$ we define the i,j-th block of $A$ by\n",
    "$$\n",
    "(A^\\square_{ij})_{a, b} := A_{i \\beta + a, j \\beta + b}\n",
    "$$\n",
    "for $1 \\leq a, b, \\beta$ where $A^\\square \\in \\R^{\\beta \\times \\beta}$. This representation immediately comes from the fact that $R^{k \\beta, k\\beta}$ is isomorphic to $(R^{\\beta \\times \\beta})^{k \\times k}$."
   ]
  },
  {
   "cell_type": "markdown",
   "metadata": {},
   "source": [
    "With this block representation we can then write\n",
    "$$\n",
    "C^\\square_{ij} = \\sum­_{r = 1}^k A^\\square_{i, k} \\cdot B^\\square_{k, j}\n",
    "$$\n",
    "where $A^\\square_{i, k} \\cdot B^\\square_{k, j}$ denotes the matrix multiplication of the blocks and the addition is taken element-wise."
   ]
  },
  {
   "cell_type": "code",
   "execution_count": 68,
   "metadata": {},
   "outputs": [
    {
     "name": "stdout",
     "output_type": "stream",
     "text": [
      "A_blocks\n",
      "[[ 1  2]\n",
      " [-1  5]]\n",
      "[[-1  4]\n",
      " [ 0 -4]]\n",
      "[[ 5 -2]\n",
      " [ 0  0]]\n",
      "[[ 1  0]\n",
      " [ 5 -2]]\n",
      "\n",
      "B_blocks\n",
      "[[-4  5]\n",
      " [ 8  1]]\n",
      "[[ 5  1]\n",
      " [-5 -1]]\n",
      "[[-1  0]\n",
      " [ 6 -2]]\n",
      "[[ 3  0]\n",
      " [-1  2]]\n",
      "\n",
      "C=\n",
      "[[ 37  -1 -12   7]\n",
      " [ 20   8 -26 -14]\n",
      " [-37  23  38   7]\n",
      " [-17   4  17  -4]]\n",
      "prod_1=array([[12,  7],\n",
      "       [44,  0]])\n",
      "prod_2=array([[ 25,  -8],\n",
      "       [-24,   8]])\n",
      "Top left block in C:\n",
      "[[37 -1]\n",
      " [20  8]]\n"
     ]
    }
   ],
   "source": [
    "import numpy as np\n",
    "BLOCK_SIZE = 2 # beta\n",
    "A = np.array([\n",
    "    [1, 2, -1, 4],\n",
    "    [-1, 5, 0, -4],\n",
    "    [5, -2, 1, 0],\n",
    "    [0, 0, 5, -2]\n",
    "])\n",
    "A_blocks = [\n",
    "    [A[0:BLOCK_SIZE, 0:BLOCK_SIZE], A[0:BLOCK_SIZE, BLOCK_SIZE:2 * BLOCK_SIZE]],\n",
    "    [A[BLOCK_SIZE:2*BLOCK_SIZE, 0:BLOCK_SIZE], A[BLOCK_SIZE:2*BLOCK_SIZE, BLOCK_SIZE:2 * BLOCK_SIZE]],\n",
    "]\n",
    "print(\"A_blocks\")\n",
    "print(A_blocks[0][0])\n",
    "print(A_blocks[0][1])\n",
    "print(A_blocks[1][0])\n",
    "print(A_blocks[1][1])\n",
    "print()\n",
    "B = np.array([\n",
    "    [-4, 5, 5, 1],\n",
    "    [8, 1, -5, -1],\n",
    "    [-1, 0, 3, 0],\n",
    "    [6, -2, -1, 2],\n",
    "])\n",
    "B_blocks = [\n",
    "    [B[0:BLOCK_SIZE, 0:BLOCK_SIZE], B[0:BLOCK_SIZE, BLOCK_SIZE:2 * BLOCK_SIZE]],\n",
    "    [B[BLOCK_SIZE:2*BLOCK_SIZE, 0:BLOCK_SIZE], B[BLOCK_SIZE:2*BLOCK_SIZE, BLOCK_SIZE:2 * BLOCK_SIZE]],\n",
    "]\n",
    "print(\"B_blocks\")\n",
    "print(B_blocks[0][0])\n",
    "print(B_blocks[0][1])\n",
    "print(B_blocks[1][0])\n",
    "print(B_blocks[1][1])\n",
    "\n",
    "C = A @ B\n",
    "print()\n",
    "print(\"C=\")\n",
    "print(C)\n",
    "assert (C[0:BLOCK_SIZE, 0:BLOCK_SIZE] == A[0:BLOCK_SIZE, :] @ B[:, 0:BLOCK_SIZE]).all()\n",
    "\n",
    "C_topleft = C[0:BLOCK_SIZE, 0:BLOCK_SIZE]\n",
    "\n",
    "prod_1 = A_blocks[0][0] @ B_blocks[0][0]\n",
    "prod_2 = A_blocks[0][1] @ B_blocks[1][0] \n",
    "print(f\"{prod_1=}\")\n",
    "print(f\"{prod_2=}\")\n",
    "\n",
    "print(\"Top left block in C:\")\n",
    "print(C_topleft)\n",
    "\n",
    "assert (C_topleft == A_blocks[0][0] @ B_blocks[0][0] + A_blocks[0][1] @ B_blocks[1][0]).all()"
   ]
  }
 ],
 "metadata": {
  "kernelspec": {
   "display_name": ".venv",
   "language": "python",
   "name": "python3"
  },
  "language_info": {
   "codemirror_mode": {
    "name": "ipython",
    "version": 3
   },
   "file_extension": ".py",
   "mimetype": "text/x-python",
   "name": "python",
   "nbconvert_exporter": "python",
   "pygments_lexer": "ipython3",
   "version": "3.12.2"
  }
 },
 "nbformat": 4,
 "nbformat_minor": 2
}
