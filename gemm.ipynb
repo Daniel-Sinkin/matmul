{
 "cells": [
  {
   "cell_type": "code",
   "execution_count": 1,
   "metadata": {},
   "outputs": [
    {
     "data": {
      "text/plain": [
       "array([[ -68.,  -40.,   44., -120.],\n",
       "       [-132.,  -88.,  100., -280.],\n",
       "       [-196., -136.,  156., -440.],\n",
       "       [-260., -184.,  212., -600.]], dtype=float32)"
      ]
     },
     "execution_count": 1,
     "metadata": {},
     "output_type": "execute_result"
    }
   ],
   "source": [
    "N = 4\n",
    "BLOCK_SIZE = 2\n",
    "\n",
    "import numpy as np\n",
    "\n",
    "A = np.array([[1, 2, 3, 4], [5, 6, 7, 8], [9, 10, 11, 12], [13, 14, 15, 16]]).astype(np.float32)\n",
    "B = np.array([[1, -2, 3, -4], [5, -6, 7, -8], [-9, 10, -11, -12], [-13, -14, 15, -16]]).astype(np.float32)\n",
    "\n",
    "# [[ -68  -40   44 -120]\n",
    "#  [-132  -88  100 -280]\n",
    "#  [-196 -136  156 -440]\n",
    "#  [-260 -184  212 -600]]\n",
    "A @ B"
   ]
  },
  {
   "cell_type": "markdown",
   "metadata": {},
   "source": [
    "We can use python functionality to build build a block slicer to make accessing the individual blocks much easier:"
   ]
  },
  {
   "cell_type": "code",
   "execution_count": 13,
   "metadata": {},
   "outputs": [],
   "source": [
    "blocks: list[list[tuple[slice, slice]]] = [\n",
    "    [\n",
    "        (slice(y * BLOCK_SIZE, (y + 1) * BLOCK_SIZE),\n",
    "         slice(x * BLOCK_SIZE, (x + 1) * BLOCK_SIZE))\n",
    "         for x in range(N // BLOCK_SIZE)\n",
    "    ]\n",
    "    for y in range(N // BLOCK_SIZE)\n",
    "]"
   ]
  },
  {
   "cell_type": "markdown",
   "metadata": {},
   "source": [
    "Using this slcier we can access the blocks of the matrices directly and apply naive matrix multiplication within each block."
   ]
  },
  {
   "cell_type": "code",
   "execution_count": 36,
   "metadata": {},
   "outputs": [],
   "source": [
    "C = np.zeros((N, N))\n",
    "for y in range(N // BLOCK_SIZE):\n",
    "    for x in range(N // BLOCK_SIZE):\n",
    "        temp = np.zeros((BLOCK_SIZE, BLOCK_SIZE))\n",
    "        for k in range(N // BLOCK_SIZE):\n",
    "            temp += A[blocks[y][k]] @ B[blocks[k][x]]\n",
    "        C[blocks[y][x]] = temp\n",
    "assert (C == A @ B).all()"
   ]
  },
  {
   "cell_type": "code",
   "execution_count": 37,
   "metadata": {},
   "outputs": [],
   "source": [
    "C = np.zeros((N, N))\n",
    "for y in range(N // BLOCK_SIZE):\n",
    "    for x in range(N // BLOCK_SIZE):\n",
    "        for k in range(N // BLOCK_SIZE):\n",
    "            C[blocks[y][x]] += A[blocks[y][k]] @ B[blocks[k][x]]\n",
    "assert (C == A @ B).all()"
   ]
  },
  {
   "cell_type": "markdown",
   "metadata": {},
   "source": [
    "If we multiply the entire of of blocks with the entire column of blocks in one pass we'd get the following simplified variant:"
   ]
  },
  {
   "cell_type": "code",
   "execution_count": 38,
   "metadata": {},
   "outputs": [],
   "source": [
    "C = np.zeros((N, N))\n",
    "for block_row in blocks:\n",
    "    for block in block_row:\n",
    "        C[block] = (A[block[0], :]) @ B[:, block[1]]\n",
    "assert (C == A @ B).all()"
   ]
  },
  {
   "cell_type": "markdown",
   "metadata": {},
   "source": [
    "If we now inline the block slicers we're already at the stage that we can implement this procedure in C!"
   ]
  },
  {
   "cell_type": "code",
   "execution_count": 48,
   "metadata": {},
   "outputs": [
    {
     "name": "stdout",
     "output_type": "stream",
     "text": [
      "[[11.  0.  0.  0.]\n",
      " [ 0.  0.  0.  0.]\n",
      " [ 0.  0.  0.  0.]\n",
      " [ 0.  0.  0.  0.]]\n",
      "[[ 11. -14.   0.   0.]\n",
      " [  0.   0.   0.   0.]\n",
      " [  0.   0.   0.   0.]\n",
      " [  0.   0.   0.   0.]]\n",
      "[[ 11. -14.   0.   0.]\n",
      " [ 35.   0.   0.   0.]\n",
      " [  0.   0.   0.   0.]\n",
      " [  0.   0.   0.   0.]]\n",
      "[[ 11. -14.   0.   0.]\n",
      " [ 35. -46.   0.   0.]\n",
      " [  0.   0.   0.   0.]\n",
      " [  0.   0.   0.   0.]]\n",
      "[[-68. -14.   0.   0.]\n",
      " [ 35. -46.   0.   0.]\n",
      " [  0.   0.   0.   0.]\n",
      " [  0.   0.   0.   0.]]\n",
      "[[-68. -40.   0.   0.]\n",
      " [ 35. -46.   0.   0.]\n",
      " [  0.   0.   0.   0.]\n",
      " [  0.   0.   0.   0.]]\n",
      "[[ -68.  -40.    0.    0.]\n",
      " [-132.  -46.    0.    0.]\n",
      " [   0.    0.    0.    0.]\n",
      " [   0.    0.    0.    0.]]\n",
      "[[ -68.  -40.    0.    0.]\n",
      " [-132.  -88.    0.    0.]\n",
      " [   0.    0.    0.    0.]\n",
      " [   0.    0.    0.    0.]]\n",
      "[[ -68.  -40.   17.    0.]\n",
      " [-132.  -88.    0.    0.]\n",
      " [   0.    0.    0.    0.]\n",
      " [   0.    0.    0.    0.]]\n",
      "[[ -68.  -40.   17.  -20.]\n",
      " [-132.  -88.    0.    0.]\n",
      " [   0.    0.    0.    0.]\n",
      " [   0.    0.    0.    0.]]\n",
      "[[ -68.  -40.   17.  -20.]\n",
      " [-132.  -88.   57.    0.]\n",
      " [   0.    0.    0.    0.]\n",
      " [   0.    0.    0.    0.]]\n",
      "[[ -68.  -40.   17.  -20.]\n",
      " [-132.  -88.   57.  -68.]\n",
      " [   0.    0.    0.    0.]\n",
      " [   0.    0.    0.    0.]]\n",
      "[[ -68.  -40.   44.  -20.]\n",
      " [-132.  -88.   57.  -68.]\n",
      " [   0.    0.    0.    0.]\n",
      " [   0.    0.    0.    0.]]\n",
      "[[ -68.  -40.   44. -120.]\n",
      " [-132.  -88.   57.  -68.]\n",
      " [   0.    0.    0.    0.]\n",
      " [   0.    0.    0.    0.]]\n",
      "[[ -68.  -40.   44. -120.]\n",
      " [-132.  -88.  100.  -68.]\n",
      " [   0.    0.    0.    0.]\n",
      " [   0.    0.    0.    0.]]\n",
      "[[ -68.  -40.   44. -120.]\n",
      " [-132.  -88.  100. -280.]\n",
      " [   0.    0.    0.    0.]\n",
      " [   0.    0.    0.    0.]]\n",
      "[[ -68.  -40.   44. -120.]\n",
      " [-132.  -88.  100. -280.]\n",
      " [  59.    0.    0.    0.]\n",
      " [   0.    0.    0.    0.]]\n",
      "[[ -68.  -40.   44. -120.]\n",
      " [-132.  -88.  100. -280.]\n",
      " [  59.  -78.    0.    0.]\n",
      " [   0.    0.    0.    0.]]\n",
      "[[ -68.  -40.   44. -120.]\n",
      " [-132.  -88.  100. -280.]\n",
      " [  59.  -78.    0.    0.]\n",
      " [  83.    0.    0.    0.]]\n",
      "[[ -68.  -40.   44. -120.]\n",
      " [-132.  -88.  100. -280.]\n",
      " [  59.  -78.    0.    0.]\n",
      " [  83. -110.    0.    0.]]\n",
      "[[ -68.  -40.   44. -120.]\n",
      " [-132.  -88.  100. -280.]\n",
      " [-196.  -78.    0.    0.]\n",
      " [  83. -110.    0.    0.]]\n",
      "[[ -68.  -40.   44. -120.]\n",
      " [-132.  -88.  100. -280.]\n",
      " [-196. -136.    0.    0.]\n",
      " [  83. -110.    0.    0.]]\n",
      "[[ -68.  -40.   44. -120.]\n",
      " [-132.  -88.  100. -280.]\n",
      " [-196. -136.    0.    0.]\n",
      " [-260. -110.    0.    0.]]\n",
      "[[ -68.  -40.   44. -120.]\n",
      " [-132.  -88.  100. -280.]\n",
      " [-196. -136.    0.    0.]\n",
      " [-260. -184.    0.    0.]]\n",
      "[[ -68.  -40.   44. -120.]\n",
      " [-132.  -88.  100. -280.]\n",
      " [-196. -136.   97.    0.]\n",
      " [-260. -184.    0.    0.]]\n",
      "[[ -68.  -40.   44. -120.]\n",
      " [-132.  -88.  100. -280.]\n",
      " [-196. -136.   97. -116.]\n",
      " [-260. -184.    0.    0.]]\n",
      "[[ -68.  -40.   44. -120.]\n",
      " [-132.  -88.  100. -280.]\n",
      " [-196. -136.   97. -116.]\n",
      " [-260. -184.  137.    0.]]\n",
      "[[ -68.  -40.   44. -120.]\n",
      " [-132.  -88.  100. -280.]\n",
      " [-196. -136.   97. -116.]\n",
      " [-260. -184.  137. -164.]]\n",
      "[[ -68.  -40.   44. -120.]\n",
      " [-132.  -88.  100. -280.]\n",
      " [-196. -136.  156. -116.]\n",
      " [-260. -184.  137. -164.]]\n",
      "[[ -68.  -40.   44. -120.]\n",
      " [-132.  -88.  100. -280.]\n",
      " [-196. -136.  156. -440.]\n",
      " [-260. -184.  137. -164.]]\n",
      "[[ -68.  -40.   44. -120.]\n",
      " [-132.  -88.  100. -280.]\n",
      " [-196. -136.  156. -440.]\n",
      " [-260. -184.  212. -164.]]\n",
      "[[ -68.  -40.   44. -120.]\n",
      " [-132.  -88.  100. -280.]\n",
      " [-196. -136.  156. -440.]\n",
      " [-260. -184.  212. -600.]]\n"
     ]
    }
   ],
   "source": [
    "C = np.zeros((N, N))\n",
    "for y in range(N // BLOCK_SIZE):\n",
    "    for x in range(N // BLOCK_SIZE):\n",
    "        for r in range(N // BLOCK_SIZE):\n",
    "            for y_loc in range(BLOCK_SIZE):\n",
    "                for x_loc in range(BLOCK_SIZE):\n",
    "                    temp = 0\n",
    "                    for i in range(BLOCK_SIZE):\n",
    "                        A_val = A[y * BLOCK_SIZE + y_loc, r * BLOCK_SIZE + i]\n",
    "                        B_val = B[r * BLOCK_SIZE + i, x * BLOCK_SIZE + x_loc]\n",
    "                        temp += A_val * B_val \n",
    "                    C[y * BLOCK_SIZE + y_loc, x * BLOCK_SIZE + x_loc] += temp\n",
    "        print(C)\n",
    "assert (C == A@B).all()"
   ]
  },
  {
   "cell_type": "code",
   "execution_count": null,
   "metadata": {},
   "outputs": [],
   "source": []
  }
 ],
 "metadata": {
  "kernelspec": {
   "display_name": ".venv",
   "language": "python",
   "name": "python3"
  },
  "language_info": {
   "codemirror_mode": {
    "name": "ipython",
    "version": 3
   },
   "file_extension": ".py",
   "mimetype": "text/x-python",
   "name": "python",
   "nbconvert_exporter": "python",
   "pygments_lexer": "ipython3",
   "version": "3.12.2"
  }
 },
 "nbformat": 4,
 "nbformat_minor": 2
}
